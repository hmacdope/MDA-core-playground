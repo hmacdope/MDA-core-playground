{
 "cells": [
  {
   "cell_type": "code",
   "execution_count": 1,
   "id": "9e024da5-bfe7-4345-88f9-d5ba071408eb",
   "metadata": {},
   "outputs": [],
   "source": [
    "import mdacore\n",
    "import numpy as np\n",
    "\n",
    "ortho_box = np.arange(6, dtype=np.float32)"
   ]
  },
  {
   "cell_type": "code",
   "execution_count": 2,
   "id": "c7708718-6b88-4838-a54a-d91c402f5765",
   "metadata": {},
   "outputs": [
    {
     "data": {
      "text/plain": [
       "mdacore.TimestepContainer"
      ]
     },
     "execution_count": 2,
     "metadata": {},
     "output_type": "execute_result"
    }
   ],
   "source": [
    "mdacore.TimestepContainer"
   ]
  },
  {
   "cell_type": "code",
   "execution_count": 3,
   "id": "48bfccc7-0ab6-4662-9881-66055b108918",
   "metadata": {},
   "outputs": [
    {
     "data": {
      "text/plain": [
       "<mdacore.TimestepContainer at 0x10a4b4af0>"
      ]
     },
     "execution_count": 3,
     "metadata": {},
     "output_type": "execute_result"
    }
   ],
   "source": [
    "tstep = mdacore.TimestepContainer(10, np.float32, np.float32)\n",
    "tstep"
   ]
  },
  {
   "cell_type": "code",
   "execution_count": 4,
   "id": "6cbb3490-3c59-483b-8bd3-4eddfd4349a5",
   "metadata": {},
   "outputs": [
    {
     "data": {
      "text/plain": [
       "array([[ 0.,  1.,  2.],\n",
       "       [ 3.,  4.,  5.],\n",
       "       [ 6.,  7.,  8.],\n",
       "       [ 9., 10., 11.],\n",
       "       [12., 13., 14.],\n",
       "       [15., 16., 17.],\n",
       "       [18., 19., 20.],\n",
       "       [21., 22., 23.],\n",
       "       [24., 25., 26.],\n",
       "       [27., 28., 29.]], dtype=float32)"
      ]
     },
     "execution_count": 4,
     "metadata": {},
     "output_type": "execute_result"
    }
   ],
   "source": [
    "pos_in = np.arange(30, dtype=np.float32).reshape(10,3)\n",
    "pos_in"
   ]
  },
  {
   "cell_type": "code",
   "execution_count": 6,
   "id": "498852e5-34a9-42d8-abf0-44ba8ec677b5",
   "metadata": {},
   "outputs": [
    {
     "data": {
      "text/plain": [
       "array([[ 0.,  1.,  2.],\n",
       "       [ 3.,  4.,  5.],\n",
       "       [ 6.,  7.,  8.],\n",
       "       [ 9., 10., 11.],\n",
       "       [12., 13., 14.],\n",
       "       [15., 16., 17.],\n",
       "       [18., 19., 20.],\n",
       "       [21., 22., 23.],\n",
       "       [24., 25., 26.],\n",
       "       [27., 28., 29.]], dtype=float32)"
      ]
     },
     "execution_count": 6,
     "metadata": {},
     "output_type": "execute_result"
    }
   ],
   "source": [
    "tstep.positions = pos_in\n",
    "tstep.positions"
   ]
  },
  {
   "cell_type": "code",
   "execution_count": 7,
   "id": "edf2a9e8-87f0-4622-8a3d-56ff42d9f35b",
   "metadata": {},
   "outputs": [],
   "source": [
    "tstep.positions += 10"
   ]
  },
  {
   "cell_type": "code",
   "execution_count": 8,
   "id": "616a7522-173b-475f-bd5a-858ebd3b69f5",
   "metadata": {},
   "outputs": [
    {
     "data": {
      "text/plain": [
       "array([[10., 11., 12.],\n",
       "       [13., 14., 15.],\n",
       "       [16., 17., 18.],\n",
       "       [19., 20., 21.],\n",
       "       [22., 23., 24.],\n",
       "       [25., 26., 27.],\n",
       "       [28., 29., 30.],\n",
       "       [31., 32., 33.],\n",
       "       [34., 35., 36.],\n",
       "       [37., 38., 39.]], dtype=float32)"
      ]
     },
     "execution_count": 8,
     "metadata": {},
     "output_type": "execute_result"
    }
   ],
   "source": [
    "tstep.positions"
   ]
  },
  {
   "cell_type": "code",
   "execution_count": 13,
   "id": "8a4d2af0-c739-4994-9ff1-3f683c543f36",
   "metadata": {},
   "outputs": [
    {
     "ename": "ValueError",
     "evalue": "box cannot be set with multidimensional array",
     "output_type": "error",
     "traceback": [
      "\u001b[0;31m---------------------------------------------------------------------------\u001b[0m",
      "\u001b[0;31mValueError\u001b[0m                                Traceback (most recent call last)",
      "Input \u001b[0;32mIn [13]\u001b[0m, in \u001b[0;36m<cell line: 1>\u001b[0;34m()\u001b[0m\n\u001b[0;32m----> 1\u001b[0m tstep\u001b[38;5;241m.\u001b[39mdimensions \u001b[38;5;241m=\u001b[39m np\u001b[38;5;241m.\u001b[39marange(\u001b[38;5;241m6\u001b[39m, dtype\u001b[38;5;241m=\u001b[39mnp\u001b[38;5;241m.\u001b[39mfloat32)\u001b[38;5;241m.\u001b[39mreshape(\u001b[38;5;241m3\u001b[39m,\u001b[38;5;241m2\u001b[39m)\n",
      "File \u001b[0;32m~/Desktop/dev/mda-core-playground/src/Timestep.pyx:118\u001b[0m, in \u001b[0;36mmdacore.TimestepContainer.dimensions.__set__\u001b[0;34m()\u001b[0m\n\u001b[1;32m    116\u001b[0m def dimensions(self, cnp.ndarray[cnp.float32_t, ndim=2] newbox):\n\u001b[1;32m    117\u001b[0m     if newbox.ndim  >= 2:\n\u001b[0;32m--> 118\u001b[0m         raise ValueError(\"box cannot be set with multidimensional array\")\n\u001b[1;32m    119\u001b[0m     cdef size_t first_dim =  newbox.shape[0]\n\u001b[1;32m    120\u001b[0m     if first_dim > dereference(self._Dimensions_ptr.float_ptr).max_size:\n",
      "\u001b[0;31mValueError\u001b[0m: box cannot be set with multidimensional array"
     ]
    }
   ],
   "source": [
    " tstep.dimensions = np.arange(6, dtype=np.float32).reshape(3,2)\n"
   ]
  },
  {
   "cell_type": "code",
   "execution_count": null,
   "id": "12522657-65f7-4ab0-8d34-9fff5638eb22",
   "metadata": {},
   "outputs": [],
   "source": [
    "b"
   ]
  },
  {
   "cell_type": "code",
   "execution_count": null,
   "id": "140ccba2-65e1-4c0d-9eb3-02edcb35222f",
   "metadata": {},
   "outputs": [],
   "source": [
    "b += 4"
   ]
  },
  {
   "cell_type": "code",
   "execution_count": null,
   "id": "ea0e5f1b-c365-4268-b611-587336ee2bcf",
   "metadata": {},
   "outputs": [],
   "source": [
    "b"
   ]
  },
  {
   "cell_type": "code",
   "execution_count": null,
   "id": "96054998-3848-4f9f-9aa8-7ad713829b37",
   "metadata": {},
   "outputs": [],
   "source": [
    "tstep.dimensions"
   ]
  },
  {
   "cell_type": "code",
   "execution_count": null,
   "id": "9064c74f-0b82-4516-ad80-f00a33ddd6cb",
   "metadata": {},
   "outputs": [],
   "source": [
    "import MDAnalysis as mda\n",
    "from MDAnalysis.tests.datafiles import PSF, DCD, GRO, XTC\n",
    "\n",
    "u= mda.Universe(GRO, XTC)\n",
    "print(mda.__version__)"
   ]
  },
  {
   "cell_type": "code",
   "execution_count": null,
   "id": "ee83cd8a-b8d7-405b-879b-876740d12cfa",
   "metadata": {},
   "outputs": [],
   "source": [
    "for ts in u.trajectory:\n",
    "    print(ts)"
   ]
  },
  {
   "cell_type": "code",
   "execution_count": null,
   "id": "4668dc7c-05d6-45a9-96b3-366cc4907f2d",
   "metadata": {},
   "outputs": [],
   "source": [
    "b = ts.dimensions"
   ]
  },
  {
   "cell_type": "code",
   "execution_count": null,
   "id": "360aee3f-32ea-440b-bb50-6c1c3c626b32",
   "metadata": {},
   "outputs": [],
   "source": [
    "b"
   ]
  },
  {
   "cell_type": "code",
   "execution_count": null,
   "id": "a4e63a55-6364-4daa-8eef-2cfdac279320",
   "metadata": {},
   "outputs": [],
   "source": [
    "ts.positions.shape"
   ]
  },
  {
   "cell_type": "code",
   "execution_count": null,
   "id": "92369ed3-6177-4bbe-970d-42c5caf6a649",
   "metadata": {},
   "outputs": [],
   "source": [
    "b += 4"
   ]
  },
  {
   "cell_type": "code",
   "execution_count": null,
   "id": "77748969-de75-49ee-98c6-e09446d8d9de",
   "metadata": {},
   "outputs": [],
   "source": [
    "b"
   ]
  },
  {
   "cell_type": "code",
   "execution_count": null,
   "id": "dd51095d-eb28-4343-a2da-3daa7716f117",
   "metadata": {},
   "outputs": [],
   "source": [
    "ts.dimensions"
   ]
  },
  {
   "cell_type": "code",
   "execution_count": null,
   "id": "42c63baa-7c17-49b1-804b-03b63af25f3b",
   "metadata": {},
   "outputs": [],
   "source": []
  }
 ],
 "metadata": {
  "kernelspec": {
   "display_name": "Python 3 (ipykernel)",
   "language": "python",
   "name": "python3"
  },
  "language_info": {
   "codemirror_mode": {
    "name": "ipython",
    "version": 3
   },
   "file_extension": ".py",
   "mimetype": "text/x-python",
   "name": "python",
   "nbconvert_exporter": "python",
   "pygments_lexer": "ipython3",
   "version": "3.9.12"
  }
 },
 "nbformat": 4,
 "nbformat_minor": 5
}
