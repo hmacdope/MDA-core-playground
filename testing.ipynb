{
 "cells": [
  {
   "cell_type": "code",
   "execution_count": 1,
   "id": "9e024da5-bfe7-4345-88f9-d5ba071408eb",
   "metadata": {},
   "outputs": [],
   "source": [
    "import mdacore\n",
    "import numpy as np\n",
    "import gc\n",
    "\n",
    "ortho_box = np.arange(6, dtype=np.float32)"
   ]
  },
  {
   "cell_type": "code",
   "execution_count": 2,
   "id": "c7708718-6b88-4838-a54a-d91c402f5765",
   "metadata": {},
   "outputs": [
    {
     "data": {
      "text/plain": [
       "mdacore.TimestepContainer"
      ]
     },
     "execution_count": 2,
     "metadata": {},
     "output_type": "execute_result"
    }
   ],
   "source": [
    "mdacore.TimestepContainer"
   ]
  },
  {
   "cell_type": "code",
   "execution_count": 3,
   "id": "48bfccc7-0ab6-4662-9881-66055b108918",
   "metadata": {},
   "outputs": [
    {
     "name": "stdout",
     "output_type": "stream",
     "text": [
      "CPU times: user 19 µs, sys: 3 µs, total: 22 µs\n",
      "Wall time: 26.2 µs\n"
     ]
    },
    {
     "data": {
      "text/plain": [
       "<mdacore.TimestepContainer at 0x7fa789e47b40>"
      ]
     },
     "execution_count": 3,
     "metadata": {},
     "output_type": "execute_result"
    }
   ],
   "source": [
    "%%time \n",
    "tstep = mdacore.TimestepContainer(10,dtype=np.float64)\n",
    "tstep"
   ]
  },
  {
   "cell_type": "code",
   "execution_count": 4,
   "id": "6cbb3490-3c59-483b-8bd3-4eddfd4349a5",
   "metadata": {},
   "outputs": [
    {
     "data": {
      "text/plain": [
       "array([[ 0.,  1.,  2.],\n",
       "       [ 3.,  4.,  5.],\n",
       "       [ 6.,  7.,  8.],\n",
       "       [ 9., 10., 11.],\n",
       "       [12., 13., 14.],\n",
       "       [15., 16., 17.],\n",
       "       [18., 19., 20.],\n",
       "       [21., 22., 23.],\n",
       "       [24., 25., 26.],\n",
       "       [27., 28., 29.]], dtype=float32)"
      ]
     },
     "execution_count": 4,
     "metadata": {},
     "output_type": "execute_result"
    }
   ],
   "source": [
    "pos_in = np.arange(30, dtype=np.float32).reshape(10,3)\n",
    "pos_in"
   ]
  },
  {
   "cell_type": "code",
   "execution_count": 5,
   "id": "498852e5-34a9-42d8-abf0-44ba8ec677b5",
   "metadata": {},
   "outputs": [
    {
     "data": {
      "text/plain": [
       "True"
      ]
     },
     "execution_count": 5,
     "metadata": {},
     "output_type": "execute_result"
    }
   ],
   "source": [
    "tstep.positions = pos_in\n",
    "tstep.has_positions\n",
    "\n"
   ]
  },
  {
   "cell_type": "code",
   "execution_count": 6,
   "id": "0442e598-dcf0-4cec-84de-638c7dbbf15e",
   "metadata": {},
   "outputs": [
    {
     "data": {
      "text/plain": [
       "numpy.ndarray"
      ]
     },
     "execution_count": 6,
     "metadata": {},
     "output_type": "execute_result"
    }
   ],
   "source": [
    "a = tstep.positions\n",
    "type(a)\n"
   ]
  },
  {
   "cell_type": "code",
   "execution_count": 7,
   "id": "edf2a9e8-87f0-4622-8a3d-56ff42d9f35b",
   "metadata": {},
   "outputs": [],
   "source": [
    "tstep.positions += 10"
   ]
  },
  {
   "cell_type": "code",
   "execution_count": 8,
   "id": "616a7522-173b-475f-bd5a-858ebd3b69f5",
   "metadata": {},
   "outputs": [
    {
     "data": {
      "text/plain": [
       "array([[10., 11., 12.],\n",
       "       [13., 14., 15.],\n",
       "       [16., 17., 18.],\n",
       "       [19., 20., 21.],\n",
       "       [22., 23., 24.],\n",
       "       [25., 26., 27.],\n",
       "       [28., 29., 30.],\n",
       "       [31., 32., 33.],\n",
       "       [34., 35., 36.],\n",
       "       [37., 38., 39.]])"
      ]
     },
     "execution_count": 8,
     "metadata": {},
     "output_type": "execute_result"
    }
   ],
   "source": [
    "tstep.positions"
   ]
  },
  {
   "cell_type": "code",
   "execution_count": 9,
   "id": "8a4d2af0-c739-4994-9ff1-3f683c543f36",
   "metadata": {},
   "outputs": [],
   "source": [
    "tstep.dimensions = np.arange(6, dtype=np.float32)\n",
    "b = tstep.dimensions"
   ]
  },
  {
   "cell_type": "code",
   "execution_count": 10,
   "id": "12522657-65f7-4ab0-8d34-9fff5638eb22",
   "metadata": {},
   "outputs": [
    {
     "data": {
      "text/plain": [
       "array([[10., 11., 12.],\n",
       "       [13., 14., 15.],\n",
       "       [16., 17., 18.],\n",
       "       [19., 20., 21.],\n",
       "       [22., 23., 24.],\n",
       "       [25., 26., 27.],\n",
       "       [28., 29., 30.],\n",
       "       [31., 32., 33.],\n",
       "       [34., 35., 36.],\n",
       "       [37., 38., 39.]])"
      ]
     },
     "execution_count": 10,
     "metadata": {},
     "output_type": "execute_result"
    }
   ],
   "source": [
    "a = tstep.positions\n",
    "a"
   ]
  },
  {
   "cell_type": "code",
   "execution_count": 11,
   "id": "e076ae22-d375-444e-b930-830989727e9f",
   "metadata": {},
   "outputs": [
    {
     "data": {
      "text/plain": [
       "True"
      ]
     },
     "execution_count": 11,
     "metadata": {},
     "output_type": "execute_result"
    }
   ],
   "source": [
    "tstep.has_positions"
   ]
  },
  {
   "cell_type": "code",
   "execution_count": 12,
   "id": "df417a77-ba5f-4325-98de-196282bad1fa",
   "metadata": {},
   "outputs": [
    {
     "data": {
      "text/plain": [
       "0"
      ]
     },
     "execution_count": 12,
     "metadata": {},
     "output_type": "execute_result"
    }
   ],
   "source": [
    "del tstep\n",
    "gc.collect()"
   ]
  },
  {
   "cell_type": "code",
   "execution_count": 13,
   "id": "37d996e9-dc7e-40f3-b874-75753002b46c",
   "metadata": {},
   "outputs": [
    {
     "data": {
      "text/plain": [
       "array([0., 1., 2., 3., 4., 5.])"
      ]
     },
     "execution_count": 13,
     "metadata": {},
     "output_type": "execute_result"
    }
   ],
   "source": [
    "b"
   ]
  },
  {
   "cell_type": "code",
   "execution_count": 14,
   "id": "ad3adb20-1bd3-418a-8b23-141a552ed9d6",
   "metadata": {},
   "outputs": [
    {
     "data": {
      "text/plain": [
       "array([[10., 11., 12.],\n",
       "       [13., 14., 15.],\n",
       "       [16., 17., 18.],\n",
       "       [19., 20., 21.],\n",
       "       [22., 23., 24.],\n",
       "       [25., 26., 27.],\n",
       "       [28., 29., 30.],\n",
       "       [31., 32., 33.],\n",
       "       [34., 35., 36.],\n",
       "       [37., 38., 39.]])"
      ]
     },
     "execution_count": 14,
     "metadata": {},
     "output_type": "execute_result"
    }
   ],
   "source": [
    "a"
   ]
  },
  {
   "cell_type": "code",
   "execution_count": 15,
   "id": "9064c74f-0b82-4516-ad80-f00a33ddd6cb",
   "metadata": {},
   "outputs": [
    {
     "name": "stderr",
     "output_type": "stream",
     "text": [
      "/home/hmacdope/anaconda3/envs/mdacore_devel/lib/python3.9/site-packages/tqdm/auto.py:22: TqdmWarning: IProgress not found. Please update jupyter and ipywidgets. See https://ipywidgets.readthedocs.io/en/stable/user_install.html\n",
      "  from .autonotebook import tqdm as notebook_tqdm\n"
     ]
    },
    {
     "name": "stdout",
     "output_type": "stream",
     "text": [
      "2.2.0-dev0\n"
     ]
    }
   ],
   "source": [
    "import MDAnalysis as mda\n",
    "from MDAnalysis.tests.datafiles import PSF, DCD, GRO, XTC\n",
    "\n",
    "u= mda.Universe(GRO, XTC)\n",
    "print(mda.__version__)"
   ]
  },
  {
   "cell_type": "code",
   "execution_count": 16,
   "id": "ee83cd8a-b8d7-405b-879b-876740d12cfa",
   "metadata": {},
   "outputs": [
    {
     "name": "stdout",
     "output_type": "stream",
     "text": [
      "< Timestep 0 with unit cell dimensions [80.017006 80.017006 80.017006 60.       60.       90.      ] >\n",
      "< Timestep 1 with unit cell dimensions [80.13008 80.13008 80.13008 60.      60.      90.     ] >\n",
      "< Timestep 2 with unit cell dimensions [79.98359 79.98359 79.98358 60.      60.      90.     ] >\n",
      "< Timestep 3 with unit cell dimensions [80.00516 80.00516 80.00516 60.      60.      90.     ] >\n",
      "< Timestep 4 with unit cell dimensions [80.13544 80.13544 80.13544 60.      60.      90.     ] >\n",
      "< Timestep 5 with unit cell dimensions [80.07649  80.07649  80.076485 59.999996 59.999996 90.      ] >\n",
      "< Timestep 6 with unit cell dimensions [79.93229 79.93229 79.93228 60.      60.      90.     ] >\n",
      "< Timestep 7 with unit cell dimensions [79.95813 79.95813 79.95813 60.      60.      90.     ] >\n",
      "< Timestep 8 with unit cell dimensions [80.11252 80.11252 80.11252 60.      60.      90.     ] >\n",
      "< Timestep 9 with unit cell dimensions [80.08523 80.08523 80.08523 60.      60.      90.     ] >\n"
     ]
    }
   ],
   "source": [
    "for ts in u.trajectory:\n",
    "    print(ts)"
   ]
  },
  {
   "cell_type": "code",
   "execution_count": 17,
   "id": "360aee3f-32ea-440b-bb50-6c1c3c626b32",
   "metadata": {},
   "outputs": [
    {
     "data": {
      "text/plain": [
       "array([80.017006, 80.017006, 80.017006, 60.      , 60.      , 90.      ],\n",
       "      dtype=float32)"
      ]
     },
     "execution_count": 17,
     "metadata": {},
     "output_type": "execute_result"
    }
   ],
   "source": [
    "b = ts.dimensions\n",
    "b"
   ]
  },
  {
   "cell_type": "code",
   "execution_count": 18,
   "id": "a4e63a55-6364-4daa-8eef-2cfdac279320",
   "metadata": {},
   "outputs": [
    {
     "data": {
      "text/plain": [
       "(47681, 3)"
      ]
     },
     "execution_count": 18,
     "metadata": {},
     "output_type": "execute_result"
    }
   ],
   "source": [
    "ts.positions.shape"
   ]
  },
  {
   "cell_type": "code",
   "execution_count": 19,
   "id": "92369ed3-6177-4bbe-970d-42c5caf6a649",
   "metadata": {},
   "outputs": [],
   "source": [
    "b += 4"
   ]
  },
  {
   "cell_type": "code",
   "execution_count": 20,
   "id": "77748969-de75-49ee-98c6-e09446d8d9de",
   "metadata": {},
   "outputs": [
    {
     "data": {
      "text/plain": [
       "array([84.017006, 84.017006, 84.017006, 64.      , 64.      , 94.      ],\n",
       "      dtype=float32)"
      ]
     },
     "execution_count": 20,
     "metadata": {},
     "output_type": "execute_result"
    }
   ],
   "source": [
    "b"
   ]
  },
  {
   "cell_type": "code",
   "execution_count": 21,
   "id": "dd51095d-eb28-4343-a2da-3daa7716f117",
   "metadata": {},
   "outputs": [
    {
     "data": {
      "text/plain": [
       "array([84.017006, 84.017006, 84.017006, 64.      , 64.      , 94.      ],\n",
       "      dtype=float32)"
      ]
     },
     "execution_count": 21,
     "metadata": {},
     "output_type": "execute_result"
    }
   ],
   "source": [
    "ts.dimensions"
   ]
  },
  {
   "cell_type": "code",
   "execution_count": 22,
   "id": "42c63baa-7c17-49b1-804b-03b63af25f3b",
   "metadata": {},
   "outputs": [],
   "source": [
    "from MDAnalysis.coordinates.base import Timestep"
   ]
  },
  {
   "cell_type": "code",
   "execution_count": 23,
   "id": "7c1ee84c-fc09-4dc9-9ad3-699f36f57a34",
   "metadata": {},
   "outputs": [
    {
     "name": "stdout",
     "output_type": "stream",
     "text": [
      "CPU times: user 29 µs, sys: 10 µs, total: 39 µs\n",
      "Wall time: 42.2 µs\n"
     ]
    },
    {
     "data": {
      "text/plain": [
       "< Timestep -1 with unit cell dimensions None >"
      ]
     },
     "execution_count": 23,
     "metadata": {},
     "output_type": "execute_result"
    }
   ],
   "source": [
    "%%time\n",
    "t = Timestep(10)\n",
    "t"
   ]
  },
  {
   "cell_type": "code",
   "execution_count": 24,
   "id": "231dc4ba-1cec-46e5-8d01-d7a91c77029b",
   "metadata": {},
   "outputs": [
    {
     "name": "stdout",
     "output_type": "stream",
     "text": [
      "CPU times: user 20 µs, sys: 0 ns, total: 20 µs\n",
      "Wall time: 23.1 µs\n"
     ]
    },
    {
     "data": {
      "text/plain": [
       "<mdacore.TimestepContainer at 0x7fa789e685c0>"
      ]
     },
     "execution_count": 24,
     "metadata": {},
     "output_type": "execute_result"
    }
   ],
   "source": [
    "%%time \n",
    "tstep = mdacore.TimestepContainer(10,dtype=np.float64)\n",
    "tstep"
   ]
  },
  {
   "cell_type": "code",
   "execution_count": 25,
   "id": "a61a9ba4-d6c8-4158-a864-fadb950122c2",
   "metadata": {},
   "outputs": [
    {
     "ename": "ValueError",
     "evalue": "This Timestep has no position information",
     "output_type": "error",
     "traceback": [
      "\u001b[0;31m---------------------------------------------------------------------------\u001b[0m",
      "\u001b[0;31mValueError\u001b[0m                                Traceback (most recent call last)",
      "Input \u001b[0;32mIn [25]\u001b[0m, in \u001b[0;36m<cell line: 1>\u001b[0;34m()\u001b[0m\n\u001b[0;32m----> 1\u001b[0m \u001b[43mtstep\u001b[49m\u001b[38;5;241;43m.\u001b[39;49m\u001b[43mpositions\u001b[49m\n",
      "File \u001b[0;32m/store/MDA_project/MDA-core-playground/src/Timestep.pyx:130\u001b[0m, in \u001b[0;36mmdacore.TimestepContainer.positions.__get__\u001b[0;34m()\u001b[0m\n\u001b[1;32m    128\u001b[0m         self.positions =  self._to_numpy_from_spec(2,self._particle_dependent_shape,cnp.NPY_DOUBLE,dereference(self._Timestep_ptr.double_ptr).positions.data())\n\u001b[1;32m    129\u001b[0m else:\n\u001b[0;32m--> 130\u001b[0m     raise ValueError(\"This Timestep has no position information\")\n\u001b[1;32m    131\u001b[0m \n\u001b[1;32m    132\u001b[0m return self.positions\n",
      "\u001b[0;31mValueError\u001b[0m: This Timestep has no position information"
     ]
    }
   ],
   "source": [
    "tstep.positions"
   ]
  },
  {
   "cell_type": "code",
   "execution_count": null,
   "id": "ff099125-7535-4e1a-84e5-9ffed33a9dd6",
   "metadata": {},
   "outputs": [],
   "source": [
    "tstep.dimensions"
   ]
  },
  {
   "cell_type": "code",
   "execution_count": null,
   "id": "097b69af-9072-4131-a171-2628ce27fc6e",
   "metadata": {},
   "outputs": [],
   "source": []
  }
 ],
 "metadata": {
  "kernelspec": {
   "display_name": "Python 3 (ipykernel)",
   "language": "python",
   "name": "python3"
  },
  "language_info": {
   "codemirror_mode": {
    "name": "ipython",
    "version": 3
   },
   "file_extension": ".py",
   "mimetype": "text/x-python",
   "name": "python",
   "nbconvert_exporter": "python",
   "pygments_lexer": "ipython3",
   "version": "3.9.12"
  }
 },
 "nbformat": 4,
 "nbformat_minor": 5
}
