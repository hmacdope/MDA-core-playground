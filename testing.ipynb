{
 "cells": [
  {
   "cell_type": "code",
   "execution_count": 1,
   "id": "9e024da5-bfe7-4345-88f9-d5ba071408eb",
   "metadata": {},
   "outputs": [],
   "source": [
    "import mdacore\n",
    "import numpy as np\n",
    "import gc\n",
    "\n",
    "ortho_box = np.arange(6, dtype=np.float32)"
   ]
  },
  {
   "cell_type": "code",
   "execution_count": 2,
   "id": "c7708718-6b88-4838-a54a-d91c402f5765",
   "metadata": {},
   "outputs": [
    {
     "data": {
      "text/plain": [
       "mdacore.TimestepContainer"
      ]
     },
     "execution_count": 2,
     "metadata": {},
     "output_type": "execute_result"
    }
   ],
   "source": [
    "mdacore.TimestepContainer"
   ]
  },
  {
   "cell_type": "code",
   "execution_count": 3,
   "id": "48bfccc7-0ab6-4662-9881-66055b108918",
   "metadata": {},
   "outputs": [
    {
     "name": "stdout",
     "output_type": "stream",
     "text": [
      "CPU times: user 28 µs, sys: 3 µs, total: 31 µs\n",
      "Wall time: 38.9 µs\n"
     ]
    },
    {
     "data": {
      "text/plain": [
       "<mdacore.TimestepContainer at 0x7fd39c76f8f0>"
      ]
     },
     "execution_count": 3,
     "metadata": {},
     "output_type": "execute_result"
    }
   ],
   "source": [
    "%%time \n",
    "tstep = mdacore.TimestepContainer(10,dtype=np.float64)\n",
    "tstep"
   ]
  },
  {
   "cell_type": "code",
   "execution_count": 4,
   "id": "6cbb3490-3c59-483b-8bd3-4eddfd4349a5",
   "metadata": {},
   "outputs": [
    {
     "data": {
      "text/plain": [
       "array([[ 0.,  1.,  2.],\n",
       "       [ 3.,  4.,  5.],\n",
       "       [ 6.,  7.,  8.],\n",
       "       [ 9., 10., 11.],\n",
       "       [12., 13., 14.],\n",
       "       [15., 16., 17.],\n",
       "       [18., 19., 20.],\n",
       "       [21., 22., 23.],\n",
       "       [24., 25., 26.],\n",
       "       [27., 28., 29.]], dtype=float32)"
      ]
     },
     "execution_count": 4,
     "metadata": {},
     "output_type": "execute_result"
    }
   ],
   "source": [
    "pos_in = np.arange(30, dtype=np.float32).reshape(10,3)\n",
    "pos_in"
   ]
  },
  {
   "cell_type": "code",
   "execution_count": 5,
   "id": "0135a20c-5665-45d4-9580-f5ecdd45b433",
   "metadata": {},
   "outputs": [
    {
     "data": {
      "text/plain": [
       "array([[ 0.,  2.,  4.],\n",
       "       [ 6.,  8., 10.],\n",
       "       [12., 14., 16.],\n",
       "       [18., 20., 22.],\n",
       "       [24., 26., 28.],\n",
       "       [30., 32., 34.],\n",
       "       [36., 38., 40.],\n",
       "       [42., 44., 46.],\n",
       "       [48., 50., 52.],\n",
       "       [54., 56., 58.]], dtype=float32)"
      ]
     },
     "execution_count": 5,
     "metadata": {},
     "output_type": "execute_result"
    }
   ],
   "source": [
    "vel_in = pos_in*2\n",
    "vel_in"
   ]
  },
  {
   "cell_type": "code",
   "execution_count": 6,
   "id": "89636529-3d86-47d5-b69a-b49297c80cde",
   "metadata": {},
   "outputs": [
    {
     "data": {
      "text/plain": [
       "array([[ 0.,  3.,  6.],\n",
       "       [ 9., 12., 15.],\n",
       "       [18., 21., 24.],\n",
       "       [27., 30., 33.],\n",
       "       [36., 39., 42.],\n",
       "       [45., 48., 51.],\n",
       "       [54., 57., 60.],\n",
       "       [63., 66., 69.],\n",
       "       [72., 75., 78.],\n",
       "       [81., 84., 87.]], dtype=float32)"
      ]
     },
     "execution_count": 6,
     "metadata": {},
     "output_type": "execute_result"
    }
   ],
   "source": [
    "frc_in = pos_in*3\n",
    "frc_in"
   ]
  },
  {
   "cell_type": "code",
   "execution_count": 7,
   "id": "aa30995d-32b5-4e3b-a44f-9cf3a02d56e1",
   "metadata": {},
   "outputs": [
    {
     "data": {
      "text/plain": [
       "array([[ 0.,  1.,  2.],\n",
       "       [ 3.,  4.,  5.],\n",
       "       [ 6.,  7.,  8.],\n",
       "       [ 9., 10., 11.],\n",
       "       [12., 13., 14.],\n",
       "       [15., 16., 17.],\n",
       "       [18., 19., 20.],\n",
       "       [21., 22., 23.],\n",
       "       [24., 25., 26.],\n",
       "       [27., 28., 29.]])"
      ]
     },
     "execution_count": 7,
     "metadata": {},
     "output_type": "execute_result"
    }
   ],
   "source": [
    "tstep.positions = pos_in\n",
    "tstep.positions"
   ]
  },
  {
   "cell_type": "code",
   "execution_count": 8,
   "id": "0b64b0f5-74fe-4728-826a-2c0ae96ec394",
   "metadata": {},
   "outputs": [
    {
     "data": {
      "text/plain": [
       "array([[ 0.,  2.,  4.],\n",
       "       [ 6.,  8., 10.],\n",
       "       [12., 14., 16.],\n",
       "       [18., 20., 22.],\n",
       "       [24., 26., 28.],\n",
       "       [30., 32., 34.],\n",
       "       [36., 38., 40.],\n",
       "       [42., 44., 46.],\n",
       "       [48., 50., 52.],\n",
       "       [54., 56., 58.]])"
      ]
     },
     "execution_count": 8,
     "metadata": {},
     "output_type": "execute_result"
    }
   ],
   "source": [
    "tstep.velocities = vel_in\n",
    "tstep.velocities"
   ]
  },
  {
   "cell_type": "code",
   "execution_count": 9,
   "id": "323aa5a2-36d3-44da-95d2-c35d861aeb4a",
   "metadata": {},
   "outputs": [
    {
     "data": {
      "text/plain": [
       "array([[ 0.,  1.,  2.],\n",
       "       [ 3.,  4.,  5.],\n",
       "       [ 6.,  7.,  8.],\n",
       "       [ 9., 10., 11.],\n",
       "       [12., 13., 14.],\n",
       "       [15., 16., 17.],\n",
       "       [18., 19., 20.],\n",
       "       [21., 22., 23.],\n",
       "       [24., 25., 26.],\n",
       "       [27., 28., 29.]])"
      ]
     },
     "execution_count": 9,
     "metadata": {},
     "output_type": "execute_result"
    }
   ],
   "source": [
    "tstep.positions"
   ]
  },
  {
   "cell_type": "code",
   "execution_count": 10,
   "id": "0d29c5f1-334e-4d57-b1a6-009d358642e7",
   "metadata": {
    "tags": []
   },
   "outputs": [
    {
     "data": {
      "text/plain": [
       "array([[ 0.,  3.,  6.],\n",
       "       [ 9., 12., 15.],\n",
       "       [18., 21., 24.],\n",
       "       [27., 30., 33.],\n",
       "       [36., 39., 42.],\n",
       "       [45., 48., 51.],\n",
       "       [54., 57., 60.],\n",
       "       [63., 66., 69.],\n",
       "       [72., 75., 78.],\n",
       "       [81., 84., 87.]])"
      ]
     },
     "execution_count": 10,
     "metadata": {},
     "output_type": "execute_result"
    }
   ],
   "source": [
    "tstep.forces = frc_in\n",
    "tstep.forces"
   ]
  },
  {
   "cell_type": "code",
   "execution_count": 11,
   "id": "04559445-3316-4a2c-8bd8-6a814ab930d6",
   "metadata": {
    "tags": []
   },
   "outputs": [
    {
     "data": {
      "text/plain": [
       "array([[ 0.,  2.,  4.],\n",
       "       [ 6.,  8., 10.],\n",
       "       [12., 14., 16.],\n",
       "       [18., 20., 22.],\n",
       "       [24., 26., 28.],\n",
       "       [30., 32., 34.],\n",
       "       [36., 38., 40.],\n",
       "       [42., 44., 46.],\n",
       "       [48., 50., 52.],\n",
       "       [54., 56., 58.]])"
      ]
     },
     "execution_count": 11,
     "metadata": {},
     "output_type": "execute_result"
    }
   ],
   "source": [
    "tstep.velocities"
   ]
  },
  {
   "cell_type": "code",
   "execution_count": 12,
   "id": "1adac6d3-0a55-47ea-a291-9129f63fc07b",
   "metadata": {},
   "outputs": [
    {
     "data": {
      "text/plain": [
       "array([[ 0.,  1.,  2.],\n",
       "       [ 3.,  4.,  5.],\n",
       "       [ 6.,  7.,  8.],\n",
       "       [ 9., 10., 11.],\n",
       "       [12., 13., 14.],\n",
       "       [15., 16., 17.],\n",
       "       [18., 19., 20.],\n",
       "       [21., 22., 23.],\n",
       "       [24., 25., 26.],\n",
       "       [27., 28., 29.]])"
      ]
     },
     "execution_count": 12,
     "metadata": {},
     "output_type": "execute_result"
    }
   ],
   "source": [
    "tstep.positions"
   ]
  },
  {
   "cell_type": "code",
   "execution_count": 13,
   "id": "334274eb-c5cd-45cc-8032-16f97dd8a431",
   "metadata": {},
   "outputs": [],
   "source": [
    "tstep.positions = pos_in"
   ]
  },
  {
   "cell_type": "code",
   "execution_count": 14,
   "id": "1eeb0ddb-4ad9-4292-827d-aa83e51da0f1",
   "metadata": {},
   "outputs": [
    {
     "data": {
      "text/plain": [
       "array([[ 0.,  1.,  2.],\n",
       "       [ 3.,  4.,  5.],\n",
       "       [ 6.,  7.,  8.],\n",
       "       [ 9., 10., 11.],\n",
       "       [12., 13., 14.],\n",
       "       [15., 16., 17.],\n",
       "       [18., 19., 20.],\n",
       "       [21., 22., 23.],\n",
       "       [24., 25., 26.],\n",
       "       [27., 28., 29.]])"
      ]
     },
     "execution_count": 14,
     "metadata": {},
     "output_type": "execute_result"
    }
   ],
   "source": [
    "tstep.positions"
   ]
  },
  {
   "cell_type": "code",
   "execution_count": 29,
   "id": "3dce3efb-febc-4ab0-a62a-15fe274d5da7",
   "metadata": {},
   "outputs": [
    {
     "data": {
      "text/plain": [
       "array([0., 1., 2., 3., 4., 5.])"
      ]
     },
     "execution_count": 29,
     "metadata": {},
     "output_type": "execute_result"
    }
   ],
   "source": [
    "tstep.dimensions = ortho_box\n",
    "tstep.dimensions\n",
    "\n",
    "\n"
   ]
  },
  {
   "cell_type": "code",
   "execution_count": 30,
   "id": "de729eb2-4f77-486c-8b2a-8f091ba4b3da",
   "metadata": {},
   "outputs": [
    {
     "data": {
      "text/plain": [
       "array([0., 1., 2., 3., 4., 5.])"
      ]
     },
     "execution_count": 30,
     "metadata": {},
     "output_type": "execute_result"
    }
   ],
   "source": [
    "tstep.dimensions = ortho_box\n",
    "tstep.dimensions\n"
   ]
  },
  {
   "cell_type": "code",
   "execution_count": 16,
   "id": "9064c74f-0b82-4516-ad80-f00a33ddd6cb",
   "metadata": {},
   "outputs": [
    {
     "name": "stderr",
     "output_type": "stream",
     "text": [
      "/home/hmacdope/anaconda3/envs/mdacore_devel/lib/python3.9/site-packages/tqdm/auto.py:22: TqdmWarning: IProgress not found. Please update jupyter and ipywidgets. See https://ipywidgets.readthedocs.io/en/stable/user_install.html\n",
      "  from .autonotebook import tqdm as notebook_tqdm\n"
     ]
    },
    {
     "name": "stdout",
     "output_type": "stream",
     "text": [
      "2.2.0-dev0\n"
     ]
    }
   ],
   "source": [
    "import MDAnalysis as mda\n",
    "from MDAnalysis.tests.datafiles import PSF, DCD, GRO, XTC\n",
    "\n",
    "u= mda.Universe(GRO, XTC)\n",
    "print(mda.__version__)"
   ]
  },
  {
   "cell_type": "code",
   "execution_count": 17,
   "id": "ee83cd8a-b8d7-405b-879b-876740d12cfa",
   "metadata": {},
   "outputs": [
    {
     "name": "stdout",
     "output_type": "stream",
     "text": [
      "< Timestep 0 with unit cell dimensions [80.017006 80.017006 80.017006 60.       60.       90.      ] >\n",
      "< Timestep 1 with unit cell dimensions [80.13008 80.13008 80.13008 60.      60.      90.     ] >\n",
      "< Timestep 2 with unit cell dimensions [79.98359 79.98359 79.98358 60.      60.      90.     ] >\n",
      "< Timestep 3 with unit cell dimensions [80.00516 80.00516 80.00516 60.      60.      90.     ] >\n",
      "< Timestep 4 with unit cell dimensions [80.13544 80.13544 80.13544 60.      60.      90.     ] >\n",
      "< Timestep 5 with unit cell dimensions [80.07649  80.07649  80.076485 59.999996 59.999996 90.      ] >\n",
      "< Timestep 6 with unit cell dimensions [79.93229 79.93229 79.93228 60.      60.      90.     ] >\n",
      "< Timestep 7 with unit cell dimensions [79.95813 79.95813 79.95813 60.      60.      90.     ] >\n",
      "< Timestep 8 with unit cell dimensions [80.11252 80.11252 80.11252 60.      60.      90.     ] >\n",
      "< Timestep 9 with unit cell dimensions [80.08523 80.08523 80.08523 60.      60.      90.     ] >\n"
     ]
    }
   ],
   "source": [
    "for ts in u.trajectory:\n",
    "    print(ts)"
   ]
  },
  {
   "cell_type": "code",
   "execution_count": 18,
   "id": "360aee3f-32ea-440b-bb50-6c1c3c626b32",
   "metadata": {},
   "outputs": [
    {
     "data": {
      "text/plain": [
       "array([80.017006, 80.017006, 80.017006, 60.      , 60.      , 90.      ],\n",
       "      dtype=float32)"
      ]
     },
     "execution_count": 18,
     "metadata": {},
     "output_type": "execute_result"
    }
   ],
   "source": [
    "b = ts.dimensions\n",
    "b"
   ]
  },
  {
   "cell_type": "code",
   "execution_count": 19,
   "id": "a4e63a55-6364-4daa-8eef-2cfdac279320",
   "metadata": {},
   "outputs": [
    {
     "data": {
      "text/plain": [
       "(47681, 3)"
      ]
     },
     "execution_count": 19,
     "metadata": {},
     "output_type": "execute_result"
    }
   ],
   "source": [
    "ts.positions.shape"
   ]
  },
  {
   "cell_type": "code",
   "execution_count": 20,
   "id": "92369ed3-6177-4bbe-970d-42c5caf6a649",
   "metadata": {},
   "outputs": [],
   "source": [
    "b += 4"
   ]
  },
  {
   "cell_type": "code",
   "execution_count": 21,
   "id": "77748969-de75-49ee-98c6-e09446d8d9de",
   "metadata": {},
   "outputs": [
    {
     "data": {
      "text/plain": [
       "array([84.017006, 84.017006, 84.017006, 64.      , 64.      , 94.      ],\n",
       "      dtype=float32)"
      ]
     },
     "execution_count": 21,
     "metadata": {},
     "output_type": "execute_result"
    }
   ],
   "source": [
    "b"
   ]
  },
  {
   "cell_type": "code",
   "execution_count": 22,
   "id": "dd51095d-eb28-4343-a2da-3daa7716f117",
   "metadata": {},
   "outputs": [
    {
     "data": {
      "text/plain": [
       "array([84.017006, 84.017006, 84.017006, 64.      , 64.      , 94.      ],\n",
       "      dtype=float32)"
      ]
     },
     "execution_count": 22,
     "metadata": {},
     "output_type": "execute_result"
    }
   ],
   "source": [
    "ts.dimensions"
   ]
  },
  {
   "cell_type": "code",
   "execution_count": 23,
   "id": "42c63baa-7c17-49b1-804b-03b63af25f3b",
   "metadata": {},
   "outputs": [],
   "source": [
    "from MDAnalysis.coordinates.base import Timestep"
   ]
  },
  {
   "cell_type": "code",
   "execution_count": 24,
   "id": "7c1ee84c-fc09-4dc9-9ad3-699f36f57a34",
   "metadata": {},
   "outputs": [
    {
     "name": "stdout",
     "output_type": "stream",
     "text": [
      "CPU times: user 30 µs, sys: 11 µs, total: 41 µs\n",
      "Wall time: 44.3 µs\n"
     ]
    },
    {
     "data": {
      "text/plain": [
       "< Timestep -1 with unit cell dimensions None >"
      ]
     },
     "execution_count": 24,
     "metadata": {},
     "output_type": "execute_result"
    }
   ],
   "source": [
    "%%time\n",
    "t = Timestep(10)\n",
    "t"
   ]
  },
  {
   "cell_type": "code",
   "execution_count": 25,
   "id": "231dc4ba-1cec-46e5-8d01-d7a91c77029b",
   "metadata": {},
   "outputs": [
    {
     "name": "stdout",
     "output_type": "stream",
     "text": [
      "296 ns ± 1.46 ns per loop (mean ± std. dev. of 7 runs, 1,000,000 loops each)\n"
     ]
    }
   ],
   "source": [
    "%%timeit \n",
    "tstep = mdacore.TimestepContainer(10,dtype=np.float64)\n",
    "tstep"
   ]
  },
  {
   "cell_type": "code",
   "execution_count": 26,
   "id": "a61a9ba4-d6c8-4158-a864-fadb950122c2",
   "metadata": {},
   "outputs": [
    {
     "data": {
      "text/plain": [
       "array([[ 0.,  1.,  2.],\n",
       "       [ 3.,  4.,  5.],\n",
       "       [ 6.,  7.,  8.],\n",
       "       [ 9., 10., 11.],\n",
       "       [12., 13., 14.],\n",
       "       [15., 16., 17.],\n",
       "       [18., 19., 20.],\n",
       "       [21., 22., 23.],\n",
       "       [24., 25., 26.],\n",
       "       [27., 28., 29.]])"
      ]
     },
     "execution_count": 26,
     "metadata": {},
     "output_type": "execute_result"
    }
   ],
   "source": [
    "tstep.positions"
   ]
  },
  {
   "cell_type": "code",
   "execution_count": 27,
   "id": "ff099125-7535-4e1a-84e5-9ffed33a9dd6",
   "metadata": {},
   "outputs": [
    {
     "data": {
      "text/plain": [
       "array([0., 1., 2., 3., 4., 5.])"
      ]
     },
     "execution_count": 27,
     "metadata": {},
     "output_type": "execute_result"
    }
   ],
   "source": [
    "tstep.dimensions"
   ]
  },
  {
   "cell_type": "code",
   "execution_count": null,
   "id": "097b69af-9072-4131-a171-2628ce27fc6e",
   "metadata": {},
   "outputs": [],
   "source": []
  },
  {
   "cell_type": "code",
   "execution_count": null,
   "id": "1d9f69ff-8d62-4c93-81b5-c3b4d6e72217",
   "metadata": {},
   "outputs": [],
   "source": []
  }
 ],
 "metadata": {
  "kernelspec": {
   "display_name": "Python 3 (ipykernel)",
   "language": "python",
   "name": "python3"
  },
  "language_info": {
   "codemirror_mode": {
    "name": "ipython",
    "version": 3
   },
   "file_extension": ".py",
   "mimetype": "text/x-python",
   "name": "python",
   "nbconvert_exporter": "python",
   "pygments_lexer": "ipython3",
   "version": "3.9.12"
  }
 },
 "nbformat": 4,
 "nbformat_minor": 5
}
