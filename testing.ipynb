{
 "cells": [
  {
   "cell_type": "code",
   "execution_count": 1,
   "id": "9e024da5-bfe7-4345-88f9-d5ba071408eb",
   "metadata": {},
   "outputs": [],
   "source": [
    "import mdacore\n",
    "import numpy as np\n",
    "import gc\n",
    "\n",
    "ortho_box = np.arange(6, dtype=np.float32)"
   ]
  },
  {
   "cell_type": "code",
   "execution_count": 2,
   "id": "c7708718-6b88-4838-a54a-d91c402f5765",
   "metadata": {},
   "outputs": [
    {
     "data": {
      "text/plain": [
       "mdacore.TimestepContainer"
      ]
     },
     "execution_count": 2,
     "metadata": {},
     "output_type": "execute_result"
    }
   ],
   "source": [
    "mdacore.TimestepContainer"
   ]
  },
  {
   "cell_type": "code",
   "execution_count": 3,
   "id": "48bfccc7-0ab6-4662-9881-66055b108918",
   "metadata": {},
   "outputs": [
    {
     "data": {
      "text/plain": [
       "<mdacore.TimestepContainer at 0x7f038c3b3d60>"
      ]
     },
     "execution_count": 3,
     "metadata": {},
     "output_type": "execute_result"
    }
   ],
   "source": [
    "tstep = mdacore.TimestepContainer(10,dtype=np.float32)\n",
    "tstep"
   ]
  },
  {
   "cell_type": "code",
   "execution_count": 4,
   "id": "6cbb3490-3c59-483b-8bd3-4eddfd4349a5",
   "metadata": {},
   "outputs": [
    {
     "data": {
      "text/plain": [
       "array([[ 0.,  1.,  2.],\n",
       "       [ 3.,  4.,  5.],\n",
       "       [ 6.,  7.,  8.],\n",
       "       [ 9., 10., 11.],\n",
       "       [12., 13., 14.],\n",
       "       [15., 16., 17.],\n",
       "       [18., 19., 20.],\n",
       "       [21., 22., 23.],\n",
       "       [24., 25., 26.],\n",
       "       [27., 28., 29.]], dtype=float32)"
      ]
     },
     "execution_count": 4,
     "metadata": {},
     "output_type": "execute_result"
    }
   ],
   "source": [
    "pos_in = np.arange(30, dtype=np.float32).reshape(10,3)\n",
    "pos_in"
   ]
  },
  {
   "cell_type": "code",
   "execution_count": 5,
   "id": "0135a20c-5665-45d4-9580-f5ecdd45b433",
   "metadata": {},
   "outputs": [
    {
     "data": {
      "text/plain": [
       "array([[ 0.,  2.,  4.],\n",
       "       [ 6.,  8., 10.],\n",
       "       [12., 14., 16.],\n",
       "       [18., 20., 22.],\n",
       "       [24., 26., 28.],\n",
       "       [30., 32., 34.],\n",
       "       [36., 38., 40.],\n",
       "       [42., 44., 46.],\n",
       "       [48., 50., 52.],\n",
       "       [54., 56., 58.]], dtype=float32)"
      ]
     },
     "execution_count": 5,
     "metadata": {},
     "output_type": "execute_result"
    }
   ],
   "source": [
    "vel_in = pos_in*2\n",
    "vel_in"
   ]
  },
  {
   "cell_type": "code",
   "execution_count": 6,
   "id": "89636529-3d86-47d5-b69a-b49297c80cde",
   "metadata": {},
   "outputs": [
    {
     "data": {
      "text/plain": [
       "array([[ 0.,  3.,  6.],\n",
       "       [ 9., 12., 15.],\n",
       "       [18., 21., 24.],\n",
       "       [27., 30., 33.],\n",
       "       [36., 39., 42.],\n",
       "       [45., 48., 51.],\n",
       "       [54., 57., 60.],\n",
       "       [63., 66., 69.],\n",
       "       [72., 75., 78.],\n",
       "       [81., 84., 87.]], dtype=float32)"
      ]
     },
     "execution_count": 6,
     "metadata": {},
     "output_type": "execute_result"
    }
   ],
   "source": [
    "frc_in = pos_in*3\n",
    "frc_in"
   ]
  },
  {
   "cell_type": "code",
   "execution_count": 7,
   "id": "aa30995d-32b5-4e3b-a44f-9cf3a02d56e1",
   "metadata": {},
   "outputs": [
    {
     "name": "stdout",
     "output_type": "stream",
     "text": [
      "28.9 ns ± 0.37 ns per loop (mean ± std. dev. of 7 runs, 10,000,000 loops each)\n"
     ]
    }
   ],
   "source": [
    "%%timeit tstep.positions = pos_in\n",
    "tstep.positions"
   ]
  },
  {
   "cell_type": "code",
   "execution_count": 8,
   "id": "0b64b0f5-74fe-4728-826a-2c0ae96ec394",
   "metadata": {},
   "outputs": [
    {
     "data": {
      "text/plain": [
       "array([[ 0.,  2.,  4.],\n",
       "       [ 6.,  8., 10.],\n",
       "       [12., 14., 16.],\n",
       "       [18., 20., 22.],\n",
       "       [24., 26., 28.],\n",
       "       [30., 32., 34.],\n",
       "       [36., 38., 40.],\n",
       "       [42., 44., 46.],\n",
       "       [48., 50., 52.],\n",
       "       [54., 56., 58.]], dtype=float32)"
      ]
     },
     "execution_count": 8,
     "metadata": {},
     "output_type": "execute_result"
    }
   ],
   "source": [
    "tstep.velocities = vel_in\n",
    "tstep.velocities"
   ]
  },
  {
   "cell_type": "code",
   "execution_count": 9,
   "id": "323aa5a2-36d3-44da-95d2-c35d861aeb4a",
   "metadata": {},
   "outputs": [
    {
     "data": {
      "text/plain": [
       "array([[ 0.,  1.,  2.],\n",
       "       [ 3.,  4.,  5.],\n",
       "       [ 6.,  7.,  8.],\n",
       "       [ 9., 10., 11.],\n",
       "       [12., 13., 14.],\n",
       "       [15., 16., 17.],\n",
       "       [18., 19., 20.],\n",
       "       [21., 22., 23.],\n",
       "       [24., 25., 26.],\n",
       "       [27., 28., 29.]], dtype=float32)"
      ]
     },
     "execution_count": 9,
     "metadata": {},
     "output_type": "execute_result"
    }
   ],
   "source": [
    "tstep.positions"
   ]
  },
  {
   "cell_type": "code",
   "execution_count": 10,
   "id": "0d29c5f1-334e-4d57-b1a6-009d358642e7",
   "metadata": {
    "tags": []
   },
   "outputs": [
    {
     "data": {
      "text/plain": [
       "array([[ 0.,  3.,  6.],\n",
       "       [ 9., 12., 15.],\n",
       "       [18., 21., 24.],\n",
       "       [27., 30., 33.],\n",
       "       [36., 39., 42.],\n",
       "       [45., 48., 51.],\n",
       "       [54., 57., 60.],\n",
       "       [63., 66., 69.],\n",
       "       [72., 75., 78.],\n",
       "       [81., 84., 87.]], dtype=float32)"
      ]
     },
     "execution_count": 10,
     "metadata": {},
     "output_type": "execute_result"
    }
   ],
   "source": [
    "tstep.forces = frc_in\n",
    "tstep.forces"
   ]
  },
  {
   "cell_type": "code",
   "execution_count": 11,
   "id": "04559445-3316-4a2c-8bd8-6a814ab930d6",
   "metadata": {
    "tags": []
   },
   "outputs": [
    {
     "data": {
      "text/plain": [
       "array([[ 0.,  2.,  4.],\n",
       "       [ 6.,  8., 10.],\n",
       "       [12., 14., 16.],\n",
       "       [18., 20., 22.],\n",
       "       [24., 26., 28.],\n",
       "       [30., 32., 34.],\n",
       "       [36., 38., 40.],\n",
       "       [42., 44., 46.],\n",
       "       [48., 50., 52.],\n",
       "       [54., 56., 58.]], dtype=float32)"
      ]
     },
     "execution_count": 11,
     "metadata": {},
     "output_type": "execute_result"
    }
   ],
   "source": [
    "tstep.velocities"
   ]
  },
  {
   "cell_type": "code",
   "execution_count": 12,
   "id": "1adac6d3-0a55-47ea-a291-9129f63fc07b",
   "metadata": {},
   "outputs": [
    {
     "data": {
      "text/plain": [
       "array([[ 0.,  1.,  2.],\n",
       "       [ 3.,  4.,  5.],\n",
       "       [ 6.,  7.,  8.],\n",
       "       [ 9., 10., 11.],\n",
       "       [12., 13., 14.],\n",
       "       [15., 16., 17.],\n",
       "       [18., 19., 20.],\n",
       "       [21., 22., 23.],\n",
       "       [24., 25., 26.],\n",
       "       [27., 28., 29.]], dtype=float32)"
      ]
     },
     "execution_count": 12,
     "metadata": {},
     "output_type": "execute_result"
    }
   ],
   "source": [
    "tstep.positions"
   ]
  },
  {
   "cell_type": "code",
   "execution_count": 13,
   "id": "334274eb-c5cd-45cc-8032-16f97dd8a431",
   "metadata": {},
   "outputs": [],
   "source": [
    "tstep.positions = pos_in"
   ]
  },
  {
   "cell_type": "code",
   "execution_count": 14,
   "id": "1eeb0ddb-4ad9-4292-827d-aa83e51da0f1",
   "metadata": {},
   "outputs": [
    {
     "data": {
      "text/plain": [
       "array([[ 0.,  1.,  2.],\n",
       "       [ 3.,  4.,  5.],\n",
       "       [ 6.,  7.,  8.],\n",
       "       [ 9., 10., 11.],\n",
       "       [12., 13., 14.],\n",
       "       [15., 16., 17.],\n",
       "       [18., 19., 20.],\n",
       "       [21., 22., 23.],\n",
       "       [24., 25., 26.],\n",
       "       [27., 28., 29.]], dtype=float32)"
      ]
     },
     "execution_count": 14,
     "metadata": {},
     "output_type": "execute_result"
    }
   ],
   "source": [
    "tstep.positions"
   ]
  },
  {
   "cell_type": "code",
   "execution_count": 15,
   "id": "3dce3efb-febc-4ab0-a62a-15fe274d5da7",
   "metadata": {},
   "outputs": [
    {
     "data": {
      "text/plain": [
       "array([0., 1., 2., 3., 4., 5.], dtype=float32)"
      ]
     },
     "execution_count": 15,
     "metadata": {},
     "output_type": "execute_result"
    }
   ],
   "source": [
    "tstep.dimensions = ortho_box\n",
    "tstep.dimensions\n",
    "\n",
    "\n"
   ]
  },
  {
   "cell_type": "code",
   "execution_count": 16,
   "id": "de729eb2-4f77-486c-8b2a-8f091ba4b3da",
   "metadata": {},
   "outputs": [
    {
     "data": {
      "text/plain": [
       "array([0., 1., 2., 3., 4., 5.], dtype=float32)"
      ]
     },
     "execution_count": 16,
     "metadata": {},
     "output_type": "execute_result"
    }
   ],
   "source": [
    "tstep.dimensions = ortho_box\n",
    "tstep.dimensions\n"
   ]
  },
  {
   "cell_type": "code",
   "execution_count": 17,
   "id": "9f237281-983c-4f61-aa61-6935c37d6f33",
   "metadata": {},
   "outputs": [
    {
     "data": {
      "text/plain": [
       "array([[ 0.,  1.,  2.],\n",
       "       [ 3.,  4.,  5.],\n",
       "       [ 6.,  7.,  8.],\n",
       "       [ 9., 10., 11.],\n",
       "       [12., 13., 14.],\n",
       "       [15., 16., 17.],\n",
       "       [18., 19., 20.],\n",
       "       [21., 22., 23.],\n",
       "       [24., 25., 26.],\n",
       "       [27., 28., 29.]], dtype=float32)"
      ]
     },
     "execution_count": 17,
     "metadata": {},
     "output_type": "execute_result"
    }
   ],
   "source": [
    "tstep.positions"
   ]
  },
  {
   "cell_type": "code",
   "execution_count": 18,
   "id": "ea816bc9-1353-42ef-affe-635190a2d2a5",
   "metadata": {},
   "outputs": [
    {
     "data": {
      "text/plain": [
       "array([[ 0.,  1.,  2.],\n",
       "       [ 3.,  4.,  5.],\n",
       "       [ 6.,  7.,  8.],\n",
       "       [ 9., 10., 11.],\n",
       "       [12., 13., 14.],\n",
       "       [15., 16., 17.],\n",
       "       [18., 19., 20.],\n",
       "       [21., 22., 23.],\n",
       "       [24., 25., 26.],\n",
       "       [27., 28., 29.]], dtype=float32)"
      ]
     },
     "execution_count": 18,
     "metadata": {},
     "output_type": "execute_result"
    }
   ],
   "source": [
    "tstep.positions"
   ]
  },
  {
   "cell_type": "code",
   "execution_count": 19,
   "id": "b75fcbfd-7c49-48d2-973e-2fb005b7e79e",
   "metadata": {},
   "outputs": [
    {
     "data": {
      "text/plain": [
       "array([[ 0.,  1.,  2.],\n",
       "       [ 3.,  4.,  5.],\n",
       "       [ 6.,  7.,  8.],\n",
       "       [ 9., 10., 11.],\n",
       "       [12., 13., 14.],\n",
       "       [15., 16., 17.],\n",
       "       [18., 19., 20.],\n",
       "       [21., 22., 23.],\n",
       "       [24., 25., 26.],\n",
       "       [27., 28., 29.]], dtype=float32)"
      ]
     },
     "execution_count": 19,
     "metadata": {},
     "output_type": "execute_result"
    }
   ],
   "source": [
    "d = tstep.positions\n",
    "d"
   ]
  },
  {
   "cell_type": "code",
   "execution_count": 20,
   "id": "56bae06e-c343-48be-9fdb-63ccda8ba7b1",
   "metadata": {},
   "outputs": [],
   "source": [
    "inp = np.arange(100000, dtype=np.float32)\n",
    "out = np.zeros(100000, dtype=np.float32)"
   ]
  },
  {
   "cell_type": "code",
   "execution_count": 21,
   "id": "9064c74f-0b82-4516-ad80-f00a33ddd6cb",
   "metadata": {},
   "outputs": [
    {
     "name": "stderr",
     "output_type": "stream",
     "text": [
      "/home/hmacdope/anaconda3/envs/mdacore_devel/lib/python3.9/site-packages/tqdm/auto.py:22: TqdmWarning: IProgress not found. Please update jupyter and ipywidgets. See https://ipywidgets.readthedocs.io/en/stable/user_install.html\n",
      "  from .autonotebook import tqdm as notebook_tqdm\n"
     ]
    },
    {
     "name": "stdout",
     "output_type": "stream",
     "text": [
      "2.2.0-dev0\n"
     ]
    }
   ],
   "source": [
    "import MDAnalysis as mda\n",
    "from MDAnalysis.tests.datafiles import PSF, DCD, GRO, XTC\n",
    "\n",
    "u= mda.Universe(GRO, XTC)\n",
    "print(mda.__version__)"
   ]
  },
  {
   "cell_type": "code",
   "execution_count": 22,
   "id": "ee83cd8a-b8d7-405b-879b-876740d12cfa",
   "metadata": {},
   "outputs": [
    {
     "name": "stdout",
     "output_type": "stream",
     "text": [
      "< Timestep 0 with unit cell dimensions [80.017006 80.017006 80.017006 60.       60.       90.      ] >\n",
      "< Timestep 1 with unit cell dimensions [80.13008 80.13008 80.13008 60.      60.      90.     ] >\n",
      "< Timestep 2 with unit cell dimensions [79.98359 79.98359 79.98358 60.      60.      90.     ] >\n",
      "< Timestep 3 with unit cell dimensions [80.00516 80.00516 80.00516 60.      60.      90.     ] >\n",
      "< Timestep 4 with unit cell dimensions [80.13544 80.13544 80.13544 60.      60.      90.     ] >\n",
      "< Timestep 5 with unit cell dimensions [80.07649  80.07649  80.076485 59.999996 59.999996 90.      ] >\n",
      "< Timestep 6 with unit cell dimensions [79.93229 79.93229 79.93228 60.      60.      90.     ] >\n",
      "< Timestep 7 with unit cell dimensions [79.95813 79.95813 79.95813 60.      60.      90.     ] >\n",
      "< Timestep 8 with unit cell dimensions [80.11252 80.11252 80.11252 60.      60.      90.     ] >\n",
      "< Timestep 9 with unit cell dimensions [80.08523 80.08523 80.08523 60.      60.      90.     ] >\n"
     ]
    }
   ],
   "source": [
    "for ts in u.trajectory:\n",
    "    print(ts)"
   ]
  },
  {
   "cell_type": "code",
   "execution_count": 23,
   "id": "360aee3f-32ea-440b-bb50-6c1c3c626b32",
   "metadata": {},
   "outputs": [
    {
     "data": {
      "text/plain": [
       "array([80.017006, 80.017006, 80.017006, 60.      , 60.      , 90.      ],\n",
       "      dtype=float32)"
      ]
     },
     "execution_count": 23,
     "metadata": {},
     "output_type": "execute_result"
    }
   ],
   "source": [
    "dim = ts.dimensions\n",
    "dim"
   ]
  },
  {
   "cell_type": "code",
   "execution_count": 24,
   "id": "a4e63a55-6364-4daa-8eef-2cfdac279320",
   "metadata": {},
   "outputs": [
    {
     "data": {
      "text/plain": [
       "(47681, 3)"
      ]
     },
     "execution_count": 24,
     "metadata": {},
     "output_type": "execute_result"
    }
   ],
   "source": [
    "ts.positions.shape"
   ]
  },
  {
   "cell_type": "code",
   "execution_count": 25,
   "id": "92369ed3-6177-4bbe-970d-42c5caf6a649",
   "metadata": {},
   "outputs": [],
   "source": [
    "dim += 4"
   ]
  },
  {
   "cell_type": "code",
   "execution_count": 26,
   "id": "77748969-de75-49ee-98c6-e09446d8d9de",
   "metadata": {},
   "outputs": [
    {
     "data": {
      "text/plain": [
       "array([84.017006, 84.017006, 84.017006, 64.      , 64.      , 94.      ],\n",
       "      dtype=float32)"
      ]
     },
     "execution_count": 26,
     "metadata": {},
     "output_type": "execute_result"
    }
   ],
   "source": [
    "dim "
   ]
  },
  {
   "cell_type": "code",
   "execution_count": 27,
   "id": "dd51095d-eb28-4343-a2da-3daa7716f117",
   "metadata": {},
   "outputs": [
    {
     "data": {
      "text/plain": [
       "array([84.017006, 84.017006, 84.017006, 64.      , 64.      , 94.      ],\n",
       "      dtype=float32)"
      ]
     },
     "execution_count": 27,
     "metadata": {},
     "output_type": "execute_result"
    }
   ],
   "source": [
    "ts.dimensions"
   ]
  },
  {
   "cell_type": "code",
   "execution_count": 33,
   "id": "42c63baa-7c17-49b1-804b-03b63af25f3b",
   "metadata": {},
   "outputs": [],
   "source": [
    "from MDAnalysis.coordinates.base import Timestep\n",
    "N= 60000\n",
    "inp = np.arange(N*3, dtype=np.float32).reshape(N,3)"
   ]
  },
  {
   "cell_type": "code",
   "execution_count": 34,
   "id": "7c1ee84c-fc09-4dc9-9ad3-699f36f57a34",
   "metadata": {},
   "outputs": [
    {
     "name": "stdout",
     "output_type": "stream",
     "text": [
      "28 µs ± 892 ns per loop (mean ± std. dev. of 7 runs, 10,000 loops each)\n"
     ]
    }
   ],
   "source": [
    "%%timeit\n",
    "t = Timestep(N)\n"
   ]
  },
  {
   "cell_type": "code",
   "execution_count": 35,
   "id": "1d9f69ff-8d62-4c93-81b5-c3b4d6e72217",
   "metadata": {},
   "outputs": [
    {
     "name": "stdout",
     "output_type": "stream",
     "text": [
      "200 ns ± 0.788 ns per loop (mean ± std. dev. of 7 runs, 1,000,000 loops each)\n"
     ]
    }
   ],
   "source": [
    "%%timeit\n",
    "cts = mdacore.TimestepContainer(N,dtype=np.float32)\n"
   ]
  },
  {
   "cell_type": "code",
   "execution_count": 36,
   "id": "54f5a479-c393-4936-a3ca-89c86fb8c18a",
   "metadata": {},
   "outputs": [],
   "source": [
    "t = Timestep(N)\n",
    "cts = mdacore.TimestepContainer(N,dtype=np.float32)\n"
   ]
  },
  {
   "cell_type": "code",
   "execution_count": 37,
   "id": "169585f5-7812-41d4-8241-34647ccdd34f",
   "metadata": {},
   "outputs": [
    {
     "name": "stdout",
     "output_type": "stream",
     "text": [
      "41.1 µs ± 149 ns per loop (mean ± std. dev. of 7 runs, 10,000 loops each)\n"
     ]
    }
   ],
   "source": [
    "%%timeit\n",
    "t.positions = inp"
   ]
  },
  {
   "cell_type": "code",
   "execution_count": 38,
   "id": "3141be51-e624-4f5c-b87e-48a0b276a649",
   "metadata": {},
   "outputs": [
    {
     "name": "stdout",
     "output_type": "stream",
     "text": [
      "44.8 ns ± 0.194 ns per loop (mean ± std. dev. of 7 runs, 10,000,000 loops each)\n"
     ]
    }
   ],
   "source": [
    "%%timeit\n",
    "cts.positions = inp"
   ]
  },
  {
   "cell_type": "code",
   "execution_count": 39,
   "id": "6c139363-20cf-45b0-b96e-7a99043b0ff5",
   "metadata": {},
   "outputs": [
    {
     "name": "stdout",
     "output_type": "stream",
     "text": [
      "42.3 ns ± 0.123 ns per loop (mean ± std. dev. of 7 runs, 10,000,000 loops each)\n"
     ]
    }
   ],
   "source": [
    "%%timeit\n",
    "cts.forces = inp"
   ]
  },
  {
   "cell_type": "code",
   "execution_count": 40,
   "id": "c7b192a7-4a66-44bb-94cb-cb8db54070aa",
   "metadata": {},
   "outputs": [
    {
     "data": {
      "text/plain": [
       "array([[0.00000e+00, 1.00000e+00, 2.00000e+00],\n",
       "       [3.00000e+00, 4.00000e+00, 5.00000e+00],\n",
       "       [6.00000e+00, 7.00000e+00, 8.00000e+00],\n",
       "       ...,\n",
       "       [1.79991e+05, 1.79992e+05, 1.79993e+05],\n",
       "       [1.79994e+05, 1.79995e+05, 1.79996e+05],\n",
       "       [1.79997e+05, 1.79998e+05, 1.79999e+05]], dtype=float32)"
      ]
     },
     "execution_count": 40,
     "metadata": {},
     "output_type": "execute_result"
    }
   ],
   "source": [
    "cts.forces"
   ]
  },
  {
   "cell_type": "code",
   "execution_count": 41,
   "id": "de2b40d6-6366-47a5-a0d3-272a82f61bc0",
   "metadata": {},
   "outputs": [
    {
     "name": "stdout",
     "output_type": "stream",
     "text": [
      "248 ns ± 1.78 ns per loop (mean ± std. dev. of 7 runs, 1,000,000 loops each)\n"
     ]
    }
   ],
   "source": [
    "%%timeit\n",
    "t.positions"
   ]
  },
  {
   "cell_type": "code",
   "execution_count": 42,
   "id": "ed23d98e-2e1b-468e-a89e-b0f1bf84325a",
   "metadata": {},
   "outputs": [
    {
     "name": "stdout",
     "output_type": "stream",
     "text": [
      "29.3 ns ± 0.329 ns per loop (mean ± std. dev. of 7 runs, 10,000,000 loops each)\n"
     ]
    }
   ],
   "source": [
    "%%timeit\n",
    "cts.positions"
   ]
  },
  {
   "cell_type": "code",
   "execution_count": 43,
   "id": "23e755fc-ebdc-4ae4-859e-88a8ce983143",
   "metadata": {},
   "outputs": [
    {
     "name": "stdout",
     "output_type": "stream",
     "text": [
      "40.6 ns ± 0.104 ns per loop (mean ± std. dev. of 7 runs, 10,000,000 loops each)\n"
     ]
    }
   ],
   "source": [
    "%%timeit\n",
    "cts.dimensions = ortho_box"
   ]
  },
  {
   "cell_type": "code",
   "execution_count": 44,
   "id": "e88dde45-80c5-4dca-b7f4-13a22fff39be",
   "metadata": {},
   "outputs": [
    {
     "name": "stdout",
     "output_type": "stream",
     "text": [
      "29.2 ns ± 0.0218 ns per loop (mean ± std. dev. of 7 runs, 10,000,000 loops each)\n"
     ]
    }
   ],
   "source": [
    "%%timeit\n",
    "cts.dimensions"
   ]
  },
  {
   "cell_type": "code",
   "execution_count": null,
   "id": "020a8482-fae4-416e-aff6-4905e13b75fc",
   "metadata": {},
   "outputs": [],
   "source": []
  }
 ],
 "metadata": {
  "kernelspec": {
   "display_name": "Python 3 (ipykernel)",
   "language": "python",
   "name": "python3"
  },
  "language_info": {
   "codemirror_mode": {
    "name": "ipython",
    "version": 3
   },
   "file_extension": ".py",
   "mimetype": "text/x-python",
   "name": "python",
   "nbconvert_exporter": "python",
   "pygments_lexer": "ipython3",
   "version": "3.9.12"
  }
 },
 "nbformat": 4,
 "nbformat_minor": 5
}
