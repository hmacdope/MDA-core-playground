{
 "cells": [
  {
   "cell_type": "code",
   "execution_count": 24,
   "id": "cc65ca12-66b5-4e0c-b498-d91f0ecc1a2b",
   "metadata": {},
   "outputs": [],
   "source": [
    "import mdacore\n",
    "import numpy as np\n",
    "\n"
   ]
  },
  {
   "cell_type": "code",
   "execution_count": 25,
   "id": "43409adc-668f-415e-808e-cab43e663fa8",
   "metadata": {},
   "outputs": [
    {
     "data": {
      "text/plain": [
       "<mdacore.TimestepContainer at 0x7fa332836040>"
      ]
     },
     "execution_count": 25,
     "metadata": {},
     "output_type": "execute_result"
    }
   ],
   "source": [
    "N=100000\n",
    "tstep = mdacore.TimestepContainer(N,dtype=np.float32)\n",
    "tstep"
   ]
  },
  {
   "cell_type": "code",
   "execution_count": 26,
   "id": "e7a176a5-2d53-4bca-b210-c319cd65a7ea",
   "metadata": {},
   "outputs": [],
   "source": [
    "pos_in = np.arange(3*N, dtype=np.float32).reshape(N,3)\n",
    "\n",
    "pos_in_2 = np.arange(3*N, dtype=np.float32).reshape(N,3)*3"
   ]
  },
  {
   "cell_type": "code",
   "execution_count": 27,
   "id": "094b9092-49a8-4c1d-8941-8049ba693ffd",
   "metadata": {},
   "outputs": [],
   "source": [
    "tstep.positions = pos_in"
   ]
  },
  {
   "cell_type": "code",
   "execution_count": 28,
   "id": "5242a46b-f5e1-4863-a8c0-6f1414d383bd",
   "metadata": {},
   "outputs": [
    {
     "data": {
      "text/plain": [
       "array([[0.00000e+00, 1.00000e+00, 2.00000e+00],\n",
       "       [3.00000e+00, 4.00000e+00, 5.00000e+00],\n",
       "       [6.00000e+00, 7.00000e+00, 8.00000e+00],\n",
       "       ...,\n",
       "       [2.99991e+05, 2.99992e+05, 2.99993e+05],\n",
       "       [2.99994e+05, 2.99995e+05, 2.99996e+05],\n",
       "       [2.99997e+05, 2.99998e+05, 2.99999e+05]], dtype=float32)"
      ]
     },
     "execution_count": 28,
     "metadata": {},
     "output_type": "execute_result"
    }
   ],
   "source": [
    "tstep.positions"
   ]
  },
  {
   "cell_type": "code",
   "execution_count": null,
   "id": "9fa88b8c-742e-44c5-8fae-14bcdd51fdcb",
   "metadata": {},
   "outputs": [],
   "source": []
  },
  {
   "cell_type": "code",
   "execution_count": 45,
   "id": "02fb999a-c9ea-4d2f-952f-3658ed304c11",
   "metadata": {},
   "outputs": [
    {
     "data": {
      "text/plain": [
       "94581947952848"
      ]
     },
     "execution_count": 45,
     "metadata": {},
     "output_type": "execute_result"
    }
   ],
   "source": [
    "pos_in = np.arange(3*N, dtype=np.float32).reshape(N,3)*3\n",
    "pos_in\n"
   ]
  },
  {
   "cell_type": "code",
   "execution_count": 44,
   "id": "a73fef52-ce80-47ab-bbee-23c78c9198f1",
   "metadata": {},
   "outputs": [
    {
     "data": {
      "text/plain": [
       "94581939582192"
      ]
     },
     "execution_count": 44,
     "metadata": {},
     "output_type": "execute_result"
    }
   ],
   "source": [
    "pos_in.__array_interface__[\"data\"][0]"
   ]
  },
  {
   "cell_type": "code",
   "execution_count": 30,
   "id": "fe944399-0bcf-4d90-8a1b-4c29fff552f8",
   "metadata": {},
   "outputs": [
    {
     "data": {
      "text/plain": [
       "array([[-1.5881942e-27,  3.0857993e-41, -2.0155643e-27],\n",
       "       [ 3.0857993e-41,  0.0000000e+00,  0.0000000e+00],\n",
       "       [ 0.0000000e+00,  0.0000000e+00,  8.0000000e+00],\n",
       "       ...,\n",
       "       [ 2.9999100e+05,  2.9999200e+05,  2.9999300e+05],\n",
       "       [ 2.9999400e+05,  2.9999500e+05,  2.9999600e+05],\n",
       "       [ 2.9999700e+05,  2.9999800e+05,  2.9999900e+05]], dtype=float32)"
      ]
     },
     "execution_count": 30,
     "metadata": {},
     "output_type": "execute_result"
    }
   ],
   "source": [
    "tstep.positions"
   ]
  },
  {
   "cell_type": "code",
   "execution_count": 31,
   "id": "e071931a-5b3f-4388-ba92-a9b2f4445ede",
   "metadata": {},
   "outputs": [],
   "source": [
    "tstep.positions = pos_in"
   ]
  },
  {
   "cell_type": "code",
   "execution_count": 32,
   "id": "0b982cca-7949-45e7-aa79-904b78a5940b",
   "metadata": {},
   "outputs": [
    {
     "data": {
      "text/plain": [
       "array([[0.00000e+00, 3.00000e+00, 6.00000e+00],\n",
       "       [9.00000e+00, 1.20000e+01, 1.50000e+01],\n",
       "       [1.80000e+01, 2.10000e+01, 2.40000e+01],\n",
       "       ...,\n",
       "       [8.99973e+05, 8.99976e+05, 8.99979e+05],\n",
       "       [8.99982e+05, 8.99985e+05, 8.99988e+05],\n",
       "       [8.99991e+05, 8.99994e+05, 8.99997e+05]], dtype=float32)"
      ]
     },
     "execution_count": 32,
     "metadata": {},
     "output_type": "execute_result"
    }
   ],
   "source": [
    "tstep.positions"
   ]
  },
  {
   "cell_type": "code",
   "execution_count": 33,
   "id": "1b52c940-1a1e-4103-8520-c1e322a172c4",
   "metadata": {},
   "outputs": [
    {
     "data": {
      "text/plain": [
       "array([[0.00000e+00, 3.00000e+00, 6.00000e+00],\n",
       "       [9.00000e+00, 1.20000e+01, 1.50000e+01],\n",
       "       [1.80000e+01, 2.10000e+01, 2.40000e+01],\n",
       "       ...,\n",
       "       [8.99973e+05, 8.99976e+05, 8.99979e+05],\n",
       "       [8.99982e+05, 8.99985e+05, 8.99988e+05],\n",
       "       [8.99991e+05, 8.99994e+05, 8.99997e+05]], dtype=float32)"
      ]
     },
     "execution_count": 33,
     "metadata": {},
     "output_type": "execute_result"
    }
   ],
   "source": [
    "tstep.positions\n",
    "tstep.positions\n",
    "tstep.positions\n"
   ]
  },
  {
   "cell_type": "code",
   "execution_count": 34,
   "id": "4a36732e-517b-4509-9ad5-f73c58340cf0",
   "metadata": {},
   "outputs": [
    {
     "data": {
      "text/plain": [
       "1"
      ]
     },
     "execution_count": 34,
     "metadata": {},
     "output_type": "execute_result"
    }
   ],
   "source": [
    "pos_in = 1\n",
    "pos_in"
   ]
  },
  {
   "cell_type": "code",
   "execution_count": 35,
   "id": "0470d0e0-0d13-4f44-8827-8a2bb074524b",
   "metadata": {},
   "outputs": [
    {
     "data": {
      "text/plain": [
       "array([[0.00000e+00, 3.00000e+00, 6.00000e+00],\n",
       "       [9.00000e+00, 1.20000e+01, 1.50000e+01],\n",
       "       [1.80000e+01, 2.10000e+01, 2.40000e+01],\n",
       "       ...,\n",
       "       [8.99973e+05, 8.99976e+05, 8.99979e+05],\n",
       "       [8.99982e+05, 8.99985e+05, 8.99988e+05],\n",
       "       [8.99991e+05, 8.99994e+05, 8.99997e+05]], dtype=float32)"
      ]
     },
     "execution_count": 35,
     "metadata": {},
     "output_type": "execute_result"
    }
   ],
   "source": [
    "tstep.positions\n"
   ]
  },
  {
   "cell_type": "code",
   "execution_count": 36,
   "id": "7672c0b1-6482-4d31-9f63-80dfabd469bb",
   "metadata": {},
   "outputs": [],
   "source": [
    "pos_in = np.arange(3*N, dtype=np.float32).reshape(N,3)*3\n"
   ]
  },
  {
   "cell_type": "code",
   "execution_count": 37,
   "id": "ae4162fe-6f43-4f33-bc45-153a8b39959d",
   "metadata": {},
   "outputs": [
    {
     "data": {
      "text/plain": [
       "array([[0.00000e+00, 3.00000e+00, 6.00000e+00],\n",
       "       [9.00000e+00, 1.20000e+01, 1.50000e+01],\n",
       "       [1.80000e+01, 2.10000e+01, 2.40000e+01],\n",
       "       ...,\n",
       "       [8.99973e+05, 8.99976e+05, 8.99979e+05],\n",
       "       [8.99982e+05, 8.99985e+05, 8.99988e+05],\n",
       "       [8.99991e+05, 8.99994e+05, 8.99997e+05]], dtype=float32)"
      ]
     },
     "execution_count": 37,
     "metadata": {},
     "output_type": "execute_result"
    }
   ],
   "source": [
    "tstep.positions\n"
   ]
  },
  {
   "cell_type": "code",
   "execution_count": 38,
   "id": "8bed0d48-2de3-4500-ac7f-81a67e8ac93c",
   "metadata": {},
   "outputs": [
    {
     "data": {
      "text/plain": [
       "array([[0.00000e+00, 3.00000e+00, 6.00000e+00],\n",
       "       [9.00000e+00, 1.20000e+01, 1.50000e+01],\n",
       "       [1.80000e+01, 2.10000e+01, 2.40000e+01],\n",
       "       ...,\n",
       "       [8.99973e+05, 8.99976e+05, 8.99979e+05],\n",
       "       [8.99982e+05, 8.99985e+05, 8.99988e+05],\n",
       "       [8.99991e+05, 8.99994e+05, 8.99997e+05]], dtype=float32)"
      ]
     },
     "execution_count": 38,
     "metadata": {},
     "output_type": "execute_result"
    }
   ],
   "source": [
    "tstep.positions\n"
   ]
  },
  {
   "cell_type": "code",
   "execution_count": 39,
   "id": "dfe67354-f812-425a-862e-e64a7f67f225",
   "metadata": {},
   "outputs": [
    {
     "data": {
      "text/plain": [
       "array([[0.00000e+00, 3.00000e+00, 6.00000e+00],\n",
       "       [9.00000e+00, 1.20000e+01, 1.50000e+01],\n",
       "       [1.80000e+01, 2.10000e+01, 2.40000e+01],\n",
       "       ...,\n",
       "       [8.99973e+05, 8.99976e+05, 8.99979e+05],\n",
       "       [8.99982e+05, 8.99985e+05, 8.99988e+05],\n",
       "       [8.99991e+05, 8.99994e+05, 8.99997e+05]], dtype=float32)"
      ]
     },
     "execution_count": 39,
     "metadata": {},
     "output_type": "execute_result"
    }
   ],
   "source": [
    "tstep.positions=pos_in_2\n",
    "tstep.positions"
   ]
  },
  {
   "cell_type": "code",
   "execution_count": 40,
   "id": "9a2cc879-6de3-4e3c-90cb-4e7e9b9727d6",
   "metadata": {},
   "outputs": [
    {
     "data": {
      "text/plain": [
       "array([0., 0., 0., ..., 0., 0., 0.], dtype=float32)"
      ]
     },
     "execution_count": 40,
     "metadata": {},
     "output_type": "execute_result"
    }
   ],
   "source": [
    "pos_in_2=np.zeros(3*N, dtype=np.float32)\n",
    "pos_in_2"
   ]
  },
  {
   "cell_type": "code",
   "execution_count": 41,
   "id": "1fb1513a-c85f-4d36-8dad-c3c854e99650",
   "metadata": {},
   "outputs": [
    {
     "data": {
      "text/plain": [
       "array([[-1.5886549e-27,  3.0857993e-41,  4.9669598e-07],\n",
       "       [ 4.5787427e-41, -1.5886549e-27,  3.0857993e-41],\n",
       "       [-1.5886549e-27,  3.0857993e-41,  2.4000000e+01],\n",
       "       ...,\n",
       "       [ 8.9997300e+05,  8.9997600e+05,  8.9997900e+05],\n",
       "       [ 8.9998200e+05,  8.9998500e+05,  8.9998800e+05],\n",
       "       [ 8.9999100e+05,  8.9999400e+05,  8.9999700e+05]], dtype=float32)"
      ]
     },
     "execution_count": 41,
     "metadata": {},
     "output_type": "execute_result"
    }
   ],
   "source": [
    "tstep.positions"
   ]
  },
  {
   "cell_type": "code",
   "execution_count": 42,
   "id": "cb9e50c2-f2d7-411f-aee5-5ec66b48d1f7",
   "metadata": {},
   "outputs": [],
   "source": [
    "tstep.positions = pos_in_2"
   ]
  },
  {
   "cell_type": "code",
   "execution_count": 43,
   "id": "b54ae907-70c8-4e7a-841e-72e87d9b02c0",
   "metadata": {},
   "outputs": [
    {
     "data": {
      "text/plain": [
       "array([[0., 0., 0.],\n",
       "       [0., 0., 0.],\n",
       "       [0., 0., 0.],\n",
       "       ...,\n",
       "       [0., 0., 0.],\n",
       "       [0., 0., 0.],\n",
       "       [0., 0., 0.]], dtype=float32)"
      ]
     },
     "execution_count": 43,
     "metadata": {},
     "output_type": "execute_result"
    }
   ],
   "source": [
    "tstep.positions"
   ]
  },
  {
   "cell_type": "code",
   "execution_count": null,
   "id": "5a61c11f-1704-4c1f-bfd4-05fa77b178c1",
   "metadata": {},
   "outputs": [],
   "source": []
  }
 ],
 "metadata": {
  "kernelspec": {
   "display_name": "Python 3 (ipykernel)",
   "language": "python",
   "name": "python3"
  },
  "language_info": {
   "codemirror_mode": {
    "name": "ipython",
    "version": 3
   },
   "file_extension": ".py",
   "mimetype": "text/x-python",
   "name": "python",
   "nbconvert_exporter": "python",
   "pygments_lexer": "ipython3",
   "version": "3.9.12"
  }
 },
 "nbformat": 4,
 "nbformat_minor": 5
}
