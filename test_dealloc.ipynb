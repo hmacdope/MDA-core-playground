{
 "cells": [
  {
   "cell_type": "code",
   "execution_count": 1,
   "id": "cc65ca12-66b5-4e0c-b498-d91f0ecc1a2b",
   "metadata": {},
   "outputs": [],
   "source": [
    "import mdacore\n",
    "import numpy as np\n",
    "import gc\n",
    "%load_ext memory_profiler\n"
   ]
  },
  {
   "cell_type": "code",
   "execution_count": 2,
   "id": "43409adc-668f-415e-808e-cab43e663fa8",
   "metadata": {},
   "outputs": [
    {
     "data": {
      "text/plain": [
       "<mdacore.TimestepContainer at 0x7f2cf46feee0>"
      ]
     },
     "execution_count": 2,
     "metadata": {},
     "output_type": "execute_result"
    }
   ],
   "source": [
    "N=100000\n",
    "tstep = mdacore.TimestepContainer(N,dtype=np.float32)\n",
    "tstep"
   ]
  },
  {
   "cell_type": "code",
   "execution_count": 3,
   "id": "e7a176a5-2d53-4bca-b210-c319cd65a7ea",
   "metadata": {},
   "outputs": [],
   "source": [
    "pos_in = np.arange(3*N, dtype=np.float32).reshape(N,3)\n",
    "pos_in\n",
    "pos_in2 = pos_in*2"
   ]
  },
  {
   "cell_type": "code",
   "execution_count": 4,
   "id": "094b9092-49a8-4c1d-8941-8049ba693ffd",
   "metadata": {},
   "outputs": [],
   "source": [
    "tstep.positions = pos_in"
   ]
  },
  {
   "cell_type": "code",
   "execution_count": 5,
   "id": "5f39cddc-221c-44db-877c-c65361bfd664",
   "metadata": {},
   "outputs": [
    {
     "name": "stdout",
     "output_type": "stream",
     "text": [
      "peak memory: 97.16 MiB, increment: 0.27 MiB\n"
     ]
    }
   ],
   "source": [
    "%memit tstep.positions = pos_in"
   ]
  },
  {
   "cell_type": "code",
   "execution_count": 6,
   "id": "e8eaaf43-2b40-4443-9ee6-7bcba542805a",
   "metadata": {},
   "outputs": [
    {
     "data": {
      "text/plain": [
       "0"
      ]
     },
     "execution_count": 6,
     "metadata": {},
     "output_type": "execute_result"
    }
   ],
   "source": [
    "del pos_in\n",
    "gc.collect()"
   ]
  },
  {
   "cell_type": "code",
   "execution_count": 7,
   "id": "5242a46b-f5e1-4863-a8c0-6f1414d383bd",
   "metadata": {},
   "outputs": [
    {
     "data": {
      "text/plain": [
       "array([[0.00000e+00, 1.00000e+00, 2.00000e+00],\n",
       "       [3.00000e+00, 4.00000e+00, 5.00000e+00],\n",
       "       [6.00000e+00, 7.00000e+00, 8.00000e+00],\n",
       "       ...,\n",
       "       [2.99991e+05, 2.99992e+05, 2.99993e+05],\n",
       "       [2.99994e+05, 2.99995e+05, 2.99996e+05],\n",
       "       [2.99997e+05, 2.99998e+05, 2.99999e+05]], dtype=float32)"
      ]
     },
     "execution_count": 7,
     "metadata": {},
     "output_type": "execute_result"
    }
   ],
   "source": [
    "tstep.positions"
   ]
  },
  {
   "cell_type": "code",
   "execution_count": 8,
   "id": "02fb999a-c9ea-4d2f-952f-3658ed304c11",
   "metadata": {},
   "outputs": [
    {
     "name": "stdout",
     "output_type": "stream",
     "text": [
      "peak memory: 97.59 MiB, increment: 0.03 MiB\n"
     ]
    }
   ],
   "source": [
    "%memit tstep.positions = pos_in2"
   ]
  },
  {
   "cell_type": "code",
   "execution_count": null,
   "id": "fe944399-0bcf-4d90-8a1b-4c29fff552f8",
   "metadata": {},
   "outputs": [],
   "source": []
  },
  {
   "cell_type": "code",
   "execution_count": null,
   "id": "2405bff5-ab93-4318-80a1-2a006bf702ac",
   "metadata": {},
   "outputs": [],
   "source": []
  }
 ],
 "metadata": {
  "kernelspec": {
   "display_name": "Python 3 (ipykernel)",
   "language": "python",
   "name": "python3"
  },
  "language_info": {
   "codemirror_mode": {
    "name": "ipython",
    "version": 3
   },
   "file_extension": ".py",
   "mimetype": "text/x-python",
   "name": "python",
   "nbconvert_exporter": "python",
   "pygments_lexer": "ipython3",
   "version": "3.9.12"
  }
 },
 "nbformat": 4,
 "nbformat_minor": 5
}
